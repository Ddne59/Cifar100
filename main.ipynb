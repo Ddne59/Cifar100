{
 "cells": [
  {
   "cell_type": "code",
   "execution_count": 1,
   "metadata": {},
   "outputs": [],
   "source": [
    "import numpy as np\n",
    "import tensorflow as tf\n",
    "import matplotlib.pyplot as plt\n",
    "import pandas as pd\n",
    "import random as rd\n",
    "from sklearn.model_selection import train_test_split\n",
    "\n",
    "\n",
    "\n",
    "# Import Keras\n",
    "import keras as K\n",
    "from keras.models import load_model, Model\n",
    "from keras.layers import Dense, Dropout, GlobalAveragePooling2D, BatchNormalization\n",
    "from keras.optimizers import Adam, SGD\n",
    "from keras.applications import Xception, ResNet50V2\n",
    "from keras.applications.xception import preprocess_input\n",
    "from keras.callbacks import ModelCheckpoint, EarlyStopping, ReduceLROnPlateau, Callback\n",
    "from keras.losses import CategoricalCrossentropy\n"
   ]
  },
  {
   "cell_type": "code",
   "execution_count": 2,
   "metadata": {},
   "outputs": [],
   "source": [
    "physical_devices = tf.config.list_physical_devices(\"GPU\")\n",
    "tf.config.experimental.set_memory_growth(physical_devices[0], True)"
   ]
  },
  {
   "cell_type": "code",
   "execution_count": 3,
   "metadata": {},
   "outputs": [
    {
     "name": "stdout",
     "output_type": "stream",
     "text": [
      "[PhysicalDevice(name='/physical_device:GPU:0', device_type='GPU')]\n"
     ]
    }
   ],
   "source": [
    "print(physical_devices)"
   ]
  },
  {
   "cell_type": "code",
   "execution_count": 4,
   "metadata": {},
   "outputs": [],
   "source": [
    "def unpickle(file):\n",
    "    import pickle\n",
    "    with open(file, 'rb') as fo:\n",
    "        dict = pickle.load(fo, encoding='bytes')\n",
    "    return dict"
   ]
  },
  {
   "cell_type": "code",
   "execution_count": 5,
   "metadata": {},
   "outputs": [],
   "source": [
    "train = unpickle(\"cifar-100-python\\\\train\")\n",
    "test = unpickle(\"cifar-100-python\\\\test\")\n",
    "meta = unpickle(\"cifar-100-python\\\\meta\")"
   ]
  },
  {
   "cell_type": "code",
   "execution_count": 6,
   "metadata": {},
   "outputs": [
    {
     "name": "stdout",
     "output_type": "stream",
     "text": [
      "(50000, 3072)\n"
     ]
    }
   ],
   "source": [
    "print(train[b'data'].shape)"
   ]
  },
  {
   "cell_type": "code",
   "execution_count": 7,
   "metadata": {},
   "outputs": [],
   "source": [
    "def display_rd_img(dataset):\n",
    "    load = dataset[b'data']\n",
    "    num = rd.randint(0, len(load))\n",
    "    title = str(dataset[b'filenames'][num])\n",
    "    title = title.split(\"\\'\")[1].split(\"_s_\")[0]\n",
    "    img = load[num]\n",
    "    img = img.reshape((3,32,32)).transpose(1,2,0)\n",
    "    print(type(img))\n",
    "    plt.imshow(img)\n",
    "    plt.title(title)\n"
   ]
  },
  {
   "cell_type": "code",
   "execution_count": 8,
   "metadata": {},
   "outputs": [
    {
     "name": "stdout",
     "output_type": "stream",
     "text": [
      "<class 'numpy.ndarray'>\n"
     ]
    },
    {
     "data": {
      "image/png": "[encoded data removed]",
      "text/plain": [
       "<Figure size 640x480 with 1 Axes>"
      ]
     },
     "metadata": {},
     "output_type": "display_data"
    }
   ],
   "source": [
    "display_rd_img(train)"
   ]
  },
  {
   "cell_type": "code",
   "execution_count": 9,
   "metadata": {},
   "outputs": [],
   "source": [
    "def pre_process(dataset, target_size=(96, 96)):\n",
    "    data = dataset[b'data']\n",
    "    result = []\n",
    "    \n",
    "    for i in range(len(data)):\n",
    "        temp = data[i].reshape((3, 32, 32)).transpose(1, 2, 0)  # Convertir en (H, W, C)\n",
    "        temp = tf.image.resize(temp, target_size, method=tf.image.ResizeMethod.BICUBIC) \n",
    "        result.append(temp.numpy())  # Convertir le tenseur en numpy array\n",
    "\n",
    "    return result\n",
    "\n",
    "\n",
    "p_train = pre_process(train)    "
   ]
  },
  {
   "cell_type": "code",
   "execution_count": 10,
   "metadata": {},
   "outputs": [],
   "source": [
    "trained_label = train[b'fine_labels']"
   ]
  },
  {
   "cell_type": "code",
   "execution_count": 11,
   "metadata": {},
   "outputs": [
    {
     "name": "stdout",
     "output_type": "stream",
     "text": [
      "50000\n"
     ]
    }
   ],
   "source": [
    "print(len(p_train))"
   ]
  },
  {
   "cell_type": "code",
   "execution_count": 12,
   "metadata": {},
   "outputs": [],
   "source": [
    "class CIFAR100Generator(tf.keras.utils.Sequence):\n",
    "    def __init__(self, images, labels, batch_size=32, shuffle=True, num_classes=100, augment=False):\n",
    "        self.images = np.array(images, dtype=np.float32) \n",
    "        self.labels = np.array(labels, dtype=np.int32)\n",
    "        self.batch_size = batch_size\n",
    "        self.shuffle = shuffle\n",
    "        self.num_classes = num_classes\n",
    "        self.augment = augment  # Activation ou non de l'augmentation\n",
    "        self.indices = np.arange(len(self.images))\n",
    "        self.images = preprocess_input(self.images)  \n",
    "        self.on_epoch_end()\n",
    "    \n",
    "    def __len__(self):\n",
    "        return len(self.images) // self.batch_size  # Nombre total de batchs par epoch\n",
    "\n",
    "    def __getitem__(self, index):\n",
    "        batch_indices = self.indices[index * self.batch_size:(index + 1) * self.batch_size]\n",
    "        batch_images = self.images[batch_indices]\n",
    "        batch_labels = self.labels[batch_indices]\n",
    "\n",
    "        # Convertir les labels en one-hot encoding\n",
    "        batch_labels = tf.keras.utils.to_categorical(batch_labels, num_classes=self.num_classes)\n",
    "\n",
    "        # Appliquer l'augmentation uniquement pour l'entraînement\n",
    "        if self.augment:\n",
    "            batch_images = self.augment_images(batch_images)\n",
    "\n",
    "        return batch_images, batch_labels\n",
    "\n",
    "    def on_epoch_end(self):\n",
    "        if self.shuffle:\n",
    "            np.random.shuffle(self.indices)\n",
    "    \n",
    "    def augment_images(self, batch_images):\n",
    "        batch_images_aug = []\n",
    "        for img in batch_images:\n",
    "            if np.random.rand() > 0.5:  # 50% des images restent inchangées\n",
    "                batch_images_aug.append(img)\n",
    "            else:\n",
    "                img = tf.image.random_flip_left_right(img)\n",
    "                img = tf.image.random_brightness(img, max_delta=0.2)\n",
    "                img = tf.image.random_contrast(img, lower=0.8, upper=1.2)\n",
    "                img = tf.image.random_saturation(img, lower=0.8, upper=1.2)\n",
    "                img = tf.image.rot90(img, k=np.random.randint(4))\n",
    "                img = tf.image.random_crop(img, size=[96, 96, 3])\n",
    "                batch_images_aug.append(img)\n",
    "        \n",
    "        batch_images_aug = tf.convert_to_tensor(batch_images_aug, dtype=tf.float32)  # ✅ Convertir en tenseur TensorFlow\n",
    "        return batch_images_aug.numpy()  # ✅ Convertir proprement en NumPy\n",
    "\n",
    "\n",
    "\n",
    "\n",
    "def create_generators(images, labels, batch_size=32, val_split=0.2):\n",
    "    \"\"\"\n",
    "    Sépare les données en train/val et retourne deux générateurs.\n",
    "    \"\"\"\n",
    "    # Séparation des données en train et validation\n",
    "    X_train, X_val, y_train, y_val = train_test_split(images, labels, test_size=val_split, random_state=42)\n",
    "\n",
    "    # Création des générateurs\n",
    "    train_generator = CIFAR100Generator(X_train, y_train, batch_size=batch_size, shuffle=True, augment=True)  # Augmentation activée\n",
    "    val_generator = CIFAR100Generator(X_val, y_val, batch_size=batch_size, shuffle=False, augment=False)  # Pas d'augmentation pour validation\n",
    "    \n",
    "    return train_generator, val_generator\n",
    "\n",
    "\n",
    "\n",
    "def create_test_generator(images, labels, batch_size=32):\n",
    "    # Création des générateurs\n",
    "    test_generator = CIFAR100Generator(images, labels, batch_size=batch_size, shuffle=False, augment=False)  # Pas d'augmentation pour validation\n",
    "    \n",
    "    return test_generator\n"
   ]
  },
  {
   "cell_type": "code",
   "execution_count": 13,
   "metadata": {},
   "outputs": [],
   "source": [
    "train_generator, val_generator = create_generators(p_train, trained_label, batch_size=64)"
   ]
  },
  {
   "cell_type": "code",
   "execution_count": 14,
   "metadata": {},
   "outputs": [
    {
     "name": "stdout",
     "output_type": "stream",
     "text": [
      "Shape des images: (64, 96, 96, 3)\n",
      "Shape des labels: (64, 100)\n"
     ]
    }
   ],
   "source": [
    "x_batch, y_batch = train_generator[0]\n",
    "print(\"Shape des images:\", x_batch.shape)  # Doit être (batch_size, 32, 32, 3)\n",
    "print(\"Shape des labels:\", y_batch.shape)  # Doit être (batch_size, 100)\n"
   ]
  },
  {
   "cell_type": "code",
   "execution_count": null,
   "metadata": {},
   "outputs": [],
   "source": [
    "def neural_net(num_neurones,num_hidden_layers,dropout_rate, early_stop_patience, lr_scheduler_patience, train_generator,learning_rate= 0.0001):\n",
    "    base_model = Xception(weights='imagenet', include_top=False)\n",
    "    x = base_model.output\n",
    "    x = GlobalAveragePooling2D()(x) \n",
    "    # Ajouter des couches personnalisées\n",
    "    for _ in range (0, num_hidden_layers): \n",
    "        x = Dense(num_neurones, activation='relu')(x)  # Ajouter une couche Dense pour l'apprentissage des caractéristiques\n",
    "        #x = BatchNormalization()(x)\n",
    "        x = Dropout(dropout_rate)(x)  # Ajouter une couche de dropout pour réduire le surapprentissage\n",
    "    predictions = Dense(100, activation='softmax')(x)  # Couche de sortie pour 100 classes\n",
    "\n",
    "    # Configurer les callbacks\n",
    "    checkpoint = ModelCheckpoint(\"test.h5\", monitor='val_loss', verbose=1, save_best_only=True, save_weights_only=False, mode='auto')\n",
    "    early = EarlyStopping(monitor='val_loss', min_delta=0, patience=early_stop_patience, verbose=1, mode='auto')\n",
    "    lr_scheduler = ReduceLROnPlateau(monitor='val_loss', factor=0.1, patience=lr_scheduler_patience)\n",
    "    callbacks = [checkpoint, early, lr_scheduler]\n",
    "\n",
    "    # Créer l'instance de l'optimiseur avec le learning rate spécifié\n",
    "    optimizer = Adam(learning_rate=learning_rate)\n",
    "    #optimizer = SGD(learning_rate=learning_rate, momentum=0.9, nesterov=True)\n",
    "\n",
    "\n",
    "    # Compiler le modèle avec l'optimiseur configuré\n",
    "    model = Model(inputs= base_model.input , outputs=predictions)\n",
    "    model.compile(optimizer=optimizer, loss=CategoricalCrossentropy(label_smoothing=0.1), metrics=['accuracy'])\n",
    "    return model, callbacks\n",
    "\n",
    "# Entraîner le modèle\n",
    "def training(model, cb, n_epoch):\n",
    "    history = model.fit(\n",
    "        train_generator,\n",
    "        epochs=n_epoch,\n",
    "        validation_data=val_generator,\n",
    "        callbacks=cb)\n",
    "    \n",
    "    model.save('test_final.h5')\n",
    "    return history\n",
    "\n",
    "def plot_history(history):\n",
    "    # Tracer la précision et la perte\n",
    "    plt.plot(history.history['accuracy'])  \n",
    "    plt.plot(history.history['val_accuracy'])  \n",
    "    plt.title('Model accuracy')\n",
    "    plt.ylabel('Accuracy')\n",
    "    plt.xlabel('Epoch')\n",
    "    plt.legend(['Train', 'Validation'], loc='upper left')\n",
    "    plt.show()\n",
    "\n",
    "    plt.plot(history.history['loss'])\n",
    "    plt.plot(history.history['val_loss'])\n",
    "    plt.title('Model loss')\n",
    "    plt.ylabel('Loss')\n",
    "    plt.xlabel('Epoch')\n",
    "    plt.legend(['Train', 'Validation'], loc='upper left')\n",
    "    plt.show()"
   ]
  },
  {
   "cell_type": "code",
   "execution_count": 17,
   "metadata": {},
   "outputs": [
    {
     "name": "stdout",
     "output_type": "stream",
     "text": [
      "Epoch 1/200\n",
      "625/625 [==============================] - ETA: 0s - loss: 4.3086 - accuracy: 0.0732\n",
      "Epoch 1: val_loss improved from inf to 3.61284, saving model to test.h5\n",
      "625/625 [==============================] - 198s 270ms/step - loss: 4.3086 - accuracy: 0.0732 - val_loss: 3.6128 - val_accuracy: 0.2340 - lr: 1.0000e-04\n",
      "Epoch 2/200\n",
      "625/625 [==============================] - ETA: 0s - loss: 3.4424 - accuracy: 0.2634\n",
      "Epoch 2: val_loss improved from 3.61284 to 2.45314, saving model to test.h5\n",
      "625/625 [==============================] - 166s 265ms/step - loss: 3.4424 - accuracy: 0.2634 - val_loss: 2.4531 - val_accuracy: 0.4857 - lr: 1.0000e-04\n",
      "Epoch 3/200\n",
      "625/625 [==============================] - ETA: 0s - loss: 2.6080 - accuracy: 0.4583\n",
      "Epoch 3: val_loss improved from 2.45314 to 1.96399, saving model to test.h5\n",
      "625/625 [==============================] - 166s 266ms/step - loss: 2.6080 - accuracy: 0.4583 - val_loss: 1.9640 - val_accuracy: 0.6355 - lr: 1.0000e-04\n",
      "Epoch 4/200\n",
      "625/625 [==============================] - ETA: 0s - loss: 2.2326 - accuracy: 0.5742\n",
      "Epoch 4: val_loss improved from 1.96399 to 1.79658, saving model to test.h5\n",
      "625/625 [==============================] - 165s 263ms/step - loss: 2.2326 - accuracy: 0.5742 - val_loss: 1.7966 - val_accuracy: 0.6910 - lr: 1.0000e-04\n",
      "Epoch 5/200\n",
      "625/625 [==============================] - ETA: 0s - loss: 2.0240 - accuracy: 0.6435\n",
      "Epoch 5: val_loss improved from 1.79658 to 1.72528, saving model to test.h5\n",
      "625/625 [==============================] - 164s 263ms/step - loss: 2.0240 - accuracy: 0.6435 - val_loss: 1.7253 - val_accuracy: 0.7139 - lr: 1.0000e-04\n",
      "Epoch 6/200\n",
      "625/625 [==============================] - ETA: 0s - loss: 1.8796 - accuracy: 0.6908\n",
      "Epoch 6: val_loss improved from 1.72528 to 1.68180, saving model to test.h5\n",
      "625/625 [==============================] - 165s 264ms/step - loss: 1.8796 - accuracy: 0.6908 - val_loss: 1.6818 - val_accuracy: 0.7352 - lr: 1.0000e-04\n",
      "Epoch 7/200\n",
      "625/625 [==============================] - ETA: 0s - loss: 1.7737 - accuracy: 0.7272\n",
      "Epoch 7: val_loss improved from 1.68180 to 1.63270, saving model to test.h5\n",
      "625/625 [==============================] - 166s 266ms/step - loss: 1.7737 - accuracy: 0.7272 - val_loss: 1.6327 - val_accuracy: 0.7512 - lr: 1.0000e-04\n",
      "Epoch 8/200\n",
      "625/625 [==============================] - ETA: 0s - loss: 1.6866 - accuracy: 0.7567\n",
      "Epoch 8: val_loss did not improve from 1.63270\n",
      "625/625 [==============================] - 164s 263ms/step - loss: 1.6866 - accuracy: 0.7567 - val_loss: 1.6398 - val_accuracy: 0.7507 - lr: 1.0000e-04\n",
      "Epoch 9/200\n",
      "625/625 [==============================] - ETA: 0s - loss: 1.6090 - accuracy: 0.7804\n",
      "Epoch 9: val_loss improved from 1.63270 to 1.61646, saving model to test.h5\n",
      "625/625 [==============================] - 165s 264ms/step - loss: 1.6090 - accuracy: 0.7804 - val_loss: 1.6165 - val_accuracy: 0.7602 - lr: 1.0000e-04\n",
      "Epoch 10/200\n",
      "625/625 [==============================] - ETA: 0s - loss: 1.5510 - accuracy: 0.8016\n",
      "Epoch 10: val_loss did not improve from 1.61646\n",
      "625/625 [==============================] - 164s 263ms/step - loss: 1.5510 - accuracy: 0.8016 - val_loss: 1.6247 - val_accuracy: 0.7568 - lr: 1.0000e-04\n",
      "Epoch 11/200\n",
      "625/625 [==============================] - ETA: 0s - loss: 1.4948 - accuracy: 0.8176\n",
      "Epoch 11: val_loss did not improve from 1.61646\n",
      "625/625 [==============================] - 164s 263ms/step - loss: 1.4948 - accuracy: 0.8176 - val_loss: 1.6257 - val_accuracy: 0.7619 - lr: 1.0000e-04\n",
      "Epoch 12/200\n",
      "625/625 [==============================] - ETA: 0s - loss: 1.4593 - accuracy: 0.8293\n",
      "Epoch 12: val_loss improved from 1.61646 to 1.60510, saving model to test.h5\n",
      "625/625 [==============================] - 166s 266ms/step - loss: 1.4593 - accuracy: 0.8293 - val_loss: 1.6051 - val_accuracy: 0.7656 - lr: 1.0000e-04\n",
      "Epoch 13/200\n",
      "625/625 [==============================] - ETA: 0s - loss: 1.4176 - accuracy: 0.8427\n",
      "Epoch 13: val_loss improved from 1.60510 to 1.60077, saving model to test.h5\n",
      "625/625 [==============================] - 166s 265ms/step - loss: 1.4176 - accuracy: 0.8427 - val_loss: 1.6008 - val_accuracy: 0.7682 - lr: 1.0000e-04\n",
      "Epoch 14/200\n",
      "625/625 [==============================] - ETA: 0s - loss: 1.3820 - accuracy: 0.8538\n",
      "Epoch 14: val_loss improved from 1.60077 to 1.59111, saving model to test.h5\n",
      "625/625 [==============================] - 166s 265ms/step - loss: 1.3820 - accuracy: 0.8538 - val_loss: 1.5911 - val_accuracy: 0.7735 - lr: 1.0000e-04\n",
      "Epoch 15/200\n",
      "625/625 [==============================] - ETA: 0s - loss: 1.3507 - accuracy: 0.8615\n",
      "Epoch 15: val_loss did not improve from 1.59111\n",
      "625/625 [==============================] - 165s 264ms/step - loss: 1.3507 - accuracy: 0.8615 - val_loss: 1.5987 - val_accuracy: 0.7705 - lr: 1.0000e-04\n",
      "Epoch 16/200\n",
      "625/625 [==============================] - ETA: 0s - loss: 1.3231 - accuracy: 0.8701\n",
      "Epoch 16: val_loss did not improve from 1.59111\n",
      "625/625 [==============================] - 164s 263ms/step - loss: 1.3231 - accuracy: 0.8701 - val_loss: 1.6131 - val_accuracy: 0.7666 - lr: 1.0000e-04\n",
      "Epoch 17/200\n",
      "625/625 [==============================] - ETA: 0s - loss: 1.3063 - accuracy: 0.8758\n",
      "Epoch 17: val_loss did not improve from 1.59111\n",
      "625/625 [==============================] - 165s 265ms/step - loss: 1.3063 - accuracy: 0.8758 - val_loss: 1.5985 - val_accuracy: 0.7679 - lr: 1.0000e-04\n",
      "Epoch 18/200\n",
      "625/625 [==============================] - ETA: 0s - loss: 1.2349 - accuracy: 0.8968\n",
      "Epoch 18: val_loss improved from 1.59111 to 1.54356, saving model to test.h5\n",
      "625/625 [==============================] - 165s 264ms/step - loss: 1.2349 - accuracy: 0.8968 - val_loss: 1.5436 - val_accuracy: 0.7808 - lr: 1.0000e-05\n",
      "Epoch 19/200\n",
      "625/625 [==============================] - ETA: 0s - loss: 1.2139 - accuracy: 0.9023\n",
      "Epoch 19: val_loss improved from 1.54356 to 1.53524, saving model to test.h5\n",
      "625/625 [==============================] - 166s 265ms/step - loss: 1.2139 - accuracy: 0.9023 - val_loss: 1.5352 - val_accuracy: 0.7864 - lr: 1.0000e-05\n",
      "Epoch 20/200\n",
      "625/625 [==============================] - ETA: 0s - loss: 1.2022 - accuracy: 0.9076\n",
      "Epoch 20: val_loss improved from 1.53524 to 1.53061, saving model to test.h5\n",
      "625/625 [==============================] - 166s 266ms/step - loss: 1.2022 - accuracy: 0.9076 - val_loss: 1.5306 - val_accuracy: 0.7880 - lr: 1.0000e-05\n",
      "Epoch 21/200\n",
      "625/625 [==============================] - ETA: 0s - loss: 1.1939 - accuracy: 0.9093\n",
      "Epoch 21: val_loss improved from 1.53061 to 1.53021, saving model to test.h5\n",
      "625/625 [==============================] - 164s 262ms/step - loss: 1.1939 - accuracy: 0.9093 - val_loss: 1.5302 - val_accuracy: 0.7880 - lr: 1.0000e-05\n",
      "Epoch 22/200\n",
      "625/625 [==============================] - ETA: 0s - loss: 1.1862 - accuracy: 0.9111\n",
      "Epoch 22: val_loss improved from 1.53021 to 1.52822, saving model to test.h5\n",
      "625/625 [==============================] - 166s 265ms/step - loss: 1.1862 - accuracy: 0.9111 - val_loss: 1.5282 - val_accuracy: 0.7876 - lr: 1.0000e-05\n",
      "Epoch 23/200\n",
      "625/625 [==============================] - ETA: 0s - loss: 1.1752 - accuracy: 0.9153\n",
      "Epoch 23: val_loss improved from 1.52822 to 1.52151, saving model to test.h5\n",
      "625/625 [==============================] - 165s 264ms/step - loss: 1.1752 - accuracy: 0.9153 - val_loss: 1.5215 - val_accuracy: 0.7884 - lr: 1.0000e-05\n",
      "Epoch 24/200\n",
      "625/625 [==============================] - ETA: 0s - loss: 1.1705 - accuracy: 0.9168\n",
      "Epoch 24: val_loss did not improve from 1.52151\n",
      "625/625 [==============================] - 164s 262ms/step - loss: 1.1705 - accuracy: 0.9168 - val_loss: 1.5225 - val_accuracy: 0.7898 - lr: 1.0000e-05\n",
      "Epoch 25/200\n",
      "625/625 [==============================] - ETA: 0s - loss: 1.1595 - accuracy: 0.9189\n",
      "Epoch 25: val_loss did not improve from 1.52151\n",
      "625/625 [==============================] - 165s 264ms/step - loss: 1.1595 - accuracy: 0.9189 - val_loss: 1.5257 - val_accuracy: 0.7876 - lr: 1.0000e-05\n",
      "Epoch 26/200\n",
      "625/625 [==============================] - ETA: 0s - loss: 1.1509 - accuracy: 0.9206\n",
      "Epoch 26: val_loss improved from 1.52151 to 1.52117, saving model to test.h5\n",
      "625/625 [==============================] - 165s 265ms/step - loss: 1.1509 - accuracy: 0.9206 - val_loss: 1.5212 - val_accuracy: 0.7873 - lr: 1.0000e-05\n",
      "Epoch 27/200\n",
      "625/625 [==============================] - ETA: 0s - loss: 1.1520 - accuracy: 0.9214\n",
      "Epoch 27: val_loss improved from 1.52117 to 1.51985, saving model to test.h5\n",
      "625/625 [==============================] - 166s 265ms/step - loss: 1.1520 - accuracy: 0.9214 - val_loss: 1.5199 - val_accuracy: 0.7911 - lr: 1.0000e-05\n",
      "Epoch 28/200\n",
      "625/625 [==============================] - ETA: 0s - loss: 1.1454 - accuracy: 0.9232\n",
      "Epoch 28: val_loss did not improve from 1.51985\n",
      "625/625 [==============================] - 165s 263ms/step - loss: 1.1454 - accuracy: 0.9232 - val_loss: 1.5224 - val_accuracy: 0.7877 - lr: 1.0000e-05\n",
      "Epoch 29/200\n",
      "625/625 [==============================] - ETA: 0s - loss: 1.1395 - accuracy: 0.9251\n",
      "Epoch 29: val_loss did not improve from 1.51985\n",
      "625/625 [==============================] - 164s 263ms/step - loss: 1.1395 - accuracy: 0.9251 - val_loss: 1.5209 - val_accuracy: 0.7897 - lr: 1.0000e-05\n",
      "Epoch 30/200\n",
      "625/625 [==============================] - ETA: 0s - loss: 1.1397 - accuracy: 0.9244\n",
      "Epoch 30: val_loss did not improve from 1.51985\n",
      "625/625 [==============================] - 165s 263ms/step - loss: 1.1397 - accuracy: 0.9244 - val_loss: 1.5256 - val_accuracy: 0.7857 - lr: 1.0000e-05\n",
      "Epoch 31/200\n",
      "625/625 [==============================] - ETA: 0s - loss: 1.1282 - accuracy: 0.9270\n",
      "Epoch 31: val_loss did not improve from 1.51985\n",
      "625/625 [==============================] - 164s 263ms/step - loss: 1.1282 - accuracy: 0.9270 - val_loss: 1.5233 - val_accuracy: 0.7859 - lr: 1.0000e-06\n",
      "Epoch 32/200\n",
      "625/625 [==============================] - ETA: 0s - loss: 1.1320 - accuracy: 0.9271\n",
      "Epoch 32: val_loss did not improve from 1.51985\n",
      "625/625 [==============================] - 166s 265ms/step - loss: 1.1320 - accuracy: 0.9271 - val_loss: 1.5218 - val_accuracy: 0.7876 - lr: 1.0000e-06\n",
      "Epoch 33/200\n",
      "625/625 [==============================] - ETA: 0s - loss: 1.1259 - accuracy: 0.9282\n",
      "Epoch 33: val_loss did not improve from 1.51985\n",
      "625/625 [==============================] - 166s 265ms/step - loss: 1.1259 - accuracy: 0.9282 - val_loss: 1.5248 - val_accuracy: 0.7880 - lr: 1.0000e-06\n",
      "Epoch 34/200\n",
      "625/625 [==============================] - ETA: 0s - loss: 1.1228 - accuracy: 0.9282\n",
      "Epoch 34: val_loss did not improve from 1.51985\n",
      "625/625 [==============================] - 166s 265ms/step - loss: 1.1228 - accuracy: 0.9282 - val_loss: 1.5230 - val_accuracy: 0.7872 - lr: 1.0000e-07\n",
      "Epoch 35/200\n",
      "625/625 [==============================] - ETA: 0s - loss: 1.1267 - accuracy: 0.9282\n",
      "Epoch 35: val_loss did not improve from 1.51985\n",
      "625/625 [==============================] - 165s 264ms/step - loss: 1.1267 - accuracy: 0.9282 - val_loss: 1.5216 - val_accuracy: 0.7881 - lr: 1.0000e-07\n",
      "Epoch 35: early stopping\n"
     ]
    },
    {
     "data": {
      "image/png": "[encoded data removed]",
      "text/plain": [
       "<Figure size 640x480 with 1 Axes>"
      ]
     },
     "metadata": {},
     "output_type": "display_data"
    },
    {
     "data": {
      "image/png": "[encoded data removed]",
      "text/plain": [
       "<Figure size 640x480 with 1 Axes>"
      ]
     },
     "metadata": {},
     "output_type": "display_data"
    }
   ],
   "source": [
    "model, callback = neural_net(num_neurones=512, num_hidden_layers=3, \n",
    "                            dropout_rate=0.4, early_stop_patience=8, \n",
    "                            lr_scheduler_patience=3, train_generator=train_generator,\n",
    "                            learning_rate= 0.0001)\n",
    "\n",
    "history = training(model=model, cb= callback, n_epoch=200)\n",
    "\n",
    "plot_history(history=history)"
   ]
  },
  {
   "cell_type": "code",
   "execution_count": 18,
   "metadata": {},
   "outputs": [],
   "source": [
    "p_test = pre_process(test)\n",
    "test_labels = test[b'fine_labels']"
   ]
  },
  {
   "cell_type": "code",
   "execution_count": 19,
   "metadata": {},
   "outputs": [],
   "source": [
    "test_generator = create_test_generator(p_test, test_labels, batch_size=64)"
   ]
  },
  {
   "cell_type": "code",
   "execution_count": 20,
   "metadata": {},
   "outputs": [],
   "source": [
    "model = load_model(\"test_final.h5\")"
   ]
  },
  {
   "cell_type": "code",
   "execution_count": 21,
   "metadata": {},
   "outputs": [
    {
     "name": "stdout",
     "output_type": "stream",
     "text": [
      "156/156 [==============================] - 6s 35ms/step - loss: 1.5412 - accuracy: 0.7863\n"
     ]
    },
    {
     "data": {
      "text/plain": [
       "[1.5411800146102905, 0.7862580418586731]"
      ]
     },
     "execution_count": 21,
     "metadata": {},
     "output_type": "execute_result"
    }
   ],
   "source": [
    "model.evaluate(test_generator)"
   ]
  }
 ],
 "metadata": {
  "kernelspec": {
   "display_name": "venv",
   "language": "python",
   "name": "python3"
  },
  "language_info": {
   "codemirror_mode": {
    "name": "ipython",
    "version": 3
   },
   "file_extension": ".py",
   "mimetype": "text/x-python",
   "name": "python",
   "nbconvert_exporter": "python",
   "pygments_lexer": "ipython3",
   "version": "3.9.13"
  }
 },
 "nbformat": 4,
 "nbformat_minor": 2
}
