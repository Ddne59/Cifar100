{
 "cells": [
  {
   "cell_type": "code",
   "execution_count": 1,
   "metadata": {},
   "outputs": [],
   "source": [
    "import numpy as np\n",
    "import tensorflow as tf\n",
    "import matplotlib.pyplot as plt\n",
    "import pandas as pd\n",
    "import random as rd\n",
    "from sklearn.model_selection import train_test_split\n",
    "\n",
    "\n",
    "\n",
    "# Import Keras\n",
    "import keras as K\n",
    "from keras.models import load_model, Model\n",
    "from keras.layers import Dense, Dropout, GlobalAveragePooling2D\n",
    "from keras.optimizers import Adam\n",
    "from keras.applications import Xception, ResNet50V2\n",
    "from keras.callbacks import ModelCheckpoint, EarlyStopping, ReduceLROnPlateau"
   ]
  },
  {
   "cell_type": "code",
   "execution_count": 2,
   "metadata": {},
   "outputs": [],
   "source": [
    "physical_devices = tf.config.list_physical_devices(\"GPU\")\n",
    "tf.config.experimental.set_memory_growth(physical_devices[0], True)"
   ]
  },
  {
   "cell_type": "code",
   "execution_count": 3,
   "metadata": {},
   "outputs": [
    {
     "name": "stdout",
     "output_type": "stream",
     "text": [
      "[PhysicalDevice(name='/physical_device:GPU:0', device_type='GPU')]\n"
     ]
    }
   ],
   "source": [
    "print(physical_devices)"
   ]
  },
  {
   "cell_type": "code",
   "execution_count": 4,
   "metadata": {},
   "outputs": [],
   "source": [
    "def unpickle(file):\n",
    "    import pickle\n",
    "    with open(file, 'rb') as fo:\n",
    "        dict = pickle.load(fo, encoding='bytes')\n",
    "    return dict"
   ]
  },
  {
   "cell_type": "code",
   "execution_count": 5,
   "metadata": {},
   "outputs": [],
   "source": [
    "train = unpickle(\"cifar-100-python\\\\train\")\n",
    "test = unpickle(\"cifar-100-python\\\\test\")\n",
    "meta = unpickle(\"cifar-100-python\\\\meta\")"
   ]
  },
  {
   "cell_type": "code",
   "execution_count": 6,
   "metadata": {},
   "outputs": [
    {
     "name": "stdout",
     "output_type": "stream",
     "text": [
      "(50000, 3072)\n"
     ]
    }
   ],
   "source": [
    "print(train[b'data'].shape)"
   ]
  },
  {
   "cell_type": "code",
   "execution_count": 7,
   "metadata": {},
   "outputs": [],
   "source": [
    "def display_rd_img(dataset):\n",
    "    load = dataset[b'data']\n",
    "    num = rd.randint(0, len(load))\n",
    "    title = str(dataset[b'filenames'][num])\n",
    "    title = title.split(\"\\'\")[1].split(\"_s_\")[0]\n",
    "    img = load[num]\n",
    "    img = img.reshape((3,32,32))\n",
    "    img = img.transpose(1,2,0)\n",
    "    print(type(img))\n",
    "    plt.imshow(img)\n",
    "    plt.title(title)\n"
   ]
  },
  {
   "cell_type": "code",
   "execution_count": 8,
   "metadata": {},
   "outputs": [
    {
     "name": "stdout",
     "output_type": "stream",
     "text": [
      "<class 'numpy.ndarray'>\n"
     ]
    },
    {
     "data": {
      "image/png": "[encoded data removed]",
      "text/plain": [
       "<Figure size 640x480 with 1 Axes>"
      ]
     },
     "metadata": {},
     "output_type": "display_data"
    }
   ],
   "source": [
    "display_rd_img(train)"
   ]
  },
  {
   "cell_type": "code",
   "execution_count": 9,
   "metadata": {},
   "outputs": [],
   "source": [
    "def pre_process(dataset):\n",
    "    data = dataset[b'data']\n",
    "    result = []\n",
    "    for i in range(0, len(data)):\n",
    "        temp = data[i].reshape((3,32,32))\n",
    "        temp= temp.transpose(1,2,0)\n",
    "        result.append(temp)\n",
    "    return result\n",
    "\n",
    "p_train = pre_process(train)    "
   ]
  },
  {
   "cell_type": "code",
   "execution_count": 10,
   "metadata": {},
   "outputs": [],
   "source": [
    "trained_label = train[b'fine_labels']"
   ]
  },
  {
   "cell_type": "code",
   "execution_count": 11,
   "metadata": {},
   "outputs": [
    {
     "name": "stdout",
     "output_type": "stream",
     "text": [
      "50000\n"
     ]
    }
   ],
   "source": [
    "print(len(p_train))"
   ]
  },
  {
   "cell_type": "code",
   "execution_count": null,
   "metadata": {},
   "outputs": [],
   "source": [
    "import tensorflow as tf\n",
    "import numpy as np\n",
    "\n",
    "class CIFAR100Generator(tf.keras.utils.Sequence):\n",
    "    def __init__(self, images, labels, batch_size=32, shuffle=True, num_classes=100, augment=False):\n",
    "        self.images = np.array(images, dtype=np.float32) / 255.0  # Normalisation\n",
    "        self.labels = np.array(labels, dtype=np.int32)\n",
    "        self.batch_size = batch_size\n",
    "        self.shuffle = shuffle\n",
    "        self.num_classes = num_classes\n",
    "        self.augment = augment  # Activation ou non de l'augmentation\n",
    "        self.indices = np.arange(len(self.images))\n",
    "        self.on_epoch_end()\n",
    "    \n",
    "    def __len__(self):\n",
    "        return len(self.images) // self.batch_size  # Nombre total de batchs par epoch\n",
    "\n",
    "    def __getitem__(self, index):\n",
    "        batch_indices = self.indices[index * self.batch_size:(index + 1) * self.batch_size]\n",
    "        batch_images = self.images[batch_indices]\n",
    "        batch_labels = self.labels[batch_indices]\n",
    "\n",
    "        # 🔥 Convertir les labels en one-hot encoding\n",
    "        batch_labels = tf.keras.utils.to_categorical(batch_labels, num_classes=self.num_classes)\n",
    "\n",
    "        # 🔥 Appliquer l'augmentation uniquement pour l'entraînement\n",
    "        if self.augment:\n",
    "            batch_images = self.augment_images(batch_images)\n",
    "\n",
    "        return batch_images, batch_labels\n",
    "\n",
    "    def on_epoch_end(self):\n",
    "        if self.shuffle:\n",
    "            np.random.shuffle(self.indices)\n",
    "    \n",
    "    def augment_images(self, batch_images):\n",
    "        \"\"\" Applique des transformations aléatoires aux images \"\"\"\n",
    "        batch_images_aug = []\n",
    "        for img in batch_images:\n",
    "            img = tf.image.random_flip_left_right(img)  # Flip horizontal\n",
    "            img = tf.image.random_brightness(img, max_delta=0.1)  # Variation de luminosité\n",
    "            img = tf.image.random_contrast(img, lower=0.9, upper=1.1)  # Changement de contraste\n",
    "            img = tf.image.random_saturation(img, lower=0.9, upper=1.1)  # Saturation\n",
    "            batch_images_aug.append(img)\n",
    "        \n",
    "        return np.array(batch_images_aug, dtype=np.float32)\n",
    "\n",
    "\n",
    "\n",
    "def create_generators(images, labels, batch_size=32, val_split=0.2):\n",
    "    \"\"\"\n",
    "    Sépare les données en train/val et retourne deux générateurs.\n",
    "    \"\"\"\n",
    "    # Séparation des données en train et validation\n",
    "    X_train, X_val, y_train, y_val = train_test_split(images, labels, test_size=val_split, random_state=42)\n",
    "\n",
    "    # Création des générateurs\n",
    "    train_generator = CIFAR100Generator(X_train, y_train, batch_size=batch_size, shuffle=True, augment=True)  # Augmentation activée\n",
    "    val_generator = CIFAR100Generator(X_val, y_val, batch_size=batch_size, shuffle=False, augment=False)  # Pas d'augmentation pour validation\n",
    "    \n",
    "    return train_generator, val_generator\n",
    "\n",
    "\n",
    "\n",
    "def create_test_generator(images, labels, batch_size=32):\n",
    "    # Création des générateurs\n",
    "    test_generator = CIFAR100Generator(images, labels, batch_size=batch_size, shuffle=False, augment=False)  # Pas d'augmentation pour validation\n",
    "    \n",
    "    return test_generator\n"
   ]
  },
  {
   "cell_type": "code",
   "execution_count": 13,
   "metadata": {},
   "outputs": [],
   "source": [
    "train_generator, val_generator = create_generators(p_train, trained_label, batch_size=128)"
   ]
  },
  {
   "cell_type": "code",
   "execution_count": 14,
   "metadata": {},
   "outputs": [
    {
     "name": "stdout",
     "output_type": "stream",
     "text": [
      "Shape des images: (128, 32, 32, 3)\n",
      "Shape des labels: (128, 100)\n"
     ]
    }
   ],
   "source": [
    "\n",
    "x_batch, y_batch = train_generator[0]\n",
    "print(\"Shape des images:\", x_batch.shape)  # Doit être (batch_size, 32, 32, 3)\n",
    "print(\"Shape des labels:\", y_batch.shape)  # Doit être (batch_size, 100)\n"
   ]
  },
  {
   "cell_type": "code",
   "execution_count": 15,
   "metadata": {},
   "outputs": [],
   "source": [
    "def neural_net(num_neurones,num_hidden_layers,dropout_rate, early_stop_patience, lr_scheduler_patience, learning_rate= 0.0001):\n",
    "    base_model = Xception(weights='imagenet', include_top=False)\n",
    "    x = base_model.output\n",
    "    x = GlobalAveragePooling2D()(x) \n",
    "    # Ajouter des couches personnalisées\n",
    "    for _ in range (0, num_hidden_layers): \n",
    "        x = Dense(num_neurones, activation='relu')(x)  # Ajouter une couche Dense pour l'apprentissage des caractéristiques\n",
    "        x = Dropout(dropout_rate)(x)  # Ajouter une couche de dropout pour réduire le surapprentissage\n",
    "    predictions = Dense(100, activation='softmax')(x)  # Couche de sortie pour 100 classes\n",
    "\n",
    "    # Configurer les callbacks\n",
    "    checkpoint = ModelCheckpoint(\"test.h5\", monitor='val_loss', verbose=1, save_best_only=True, save_weights_only=False, mode='auto', period=1)\n",
    "    early = EarlyStopping(monitor='val_loss', min_delta=0, patience=early_stop_patience, verbose=1, mode='auto')\n",
    "    lr_scheduler = ReduceLROnPlateau(monitor='val_loss', factor=0.1, patience=lr_scheduler_patience)\n",
    "    callbacks = [checkpoint, early, lr_scheduler]\n",
    "\n",
    "    # Créer l'instance de l'optimiseur avec le learning rate spécifié\n",
    "    optimizer = Adam(learning_rate=learning_rate)\n",
    "\n",
    "    # Compiler le modèle avec l'optimiseur configuré\n",
    "    model = Model(inputs= base_model.input , outputs=predictions)\n",
    "    model.compile(optimizer=optimizer, loss='categorical_crossentropy', metrics=['accuracy'])\n",
    "    return model, callbacks\n",
    "\n",
    "# Entraîner le modèle\n",
    "def training(model, cb, n_epoch):\n",
    "    history = model.fit(\n",
    "        train_generator,\n",
    "        epochs=n_epoch,\n",
    "        validation_data=val_generator,\n",
    "        callbacks=cb)\n",
    "    \n",
    "    model.save('test_final.h5')\n",
    "    return history\n",
    "\n",
    "def plot_history(history):\n",
    "    # Tracer la précision et la perte\n",
    "    plt.plot(history.history['accuracy'])  \n",
    "    plt.plot(history.history['val_accuracy'])  \n",
    "    plt.title('Model accuracy')\n",
    "    plt.ylabel('Accuracy')\n",
    "    plt.xlabel('Epoch')\n",
    "    plt.legend(['Train', 'Validation'], loc='upper left')\n",
    "    plt.show()\n",
    "\n",
    "    plt.plot(history.history['loss'])\n",
    "    plt.plot(history.history['val_loss'])\n",
    "    plt.title('Model loss')\n",
    "    plt.ylabel('Loss')\n",
    "    plt.xlabel('Epoch')\n",
    "    plt.legend(['Train', 'Validation'], loc='upper left')\n",
    "    plt.show()"
   ]
  },
  {
   "cell_type": "code",
   "execution_count": 16,
   "metadata": {},
   "outputs": [
    {
     "name": "stdout",
     "output_type": "stream",
     "text": [
      "WARNING:tensorflow:`period` argument is deprecated. Please use `save_freq` to specify the frequency in number of batches seen.\n",
      "Epoch 1/200\n",
      "312/312 [==============================] - ETA: 0s - loss: 4.6053 - accuracy: 0.0092\n",
      "Epoch 1: val_loss improved from inf to 4.60528, saving model to test.h5\n",
      "312/312 [==============================] - 107s 262ms/step - loss: 4.6053 - accuracy: 0.0092 - val_loss: 4.6053 - val_accuracy: 0.0093 - lr: 1.0000e-04\n",
      "Epoch 2/200\n",
      "312/312 [==============================] - ETA: 0s - loss: 4.5040 - accuracy: 0.0213\n",
      "Epoch 2: val_loss improved from 4.60528 to 4.35669, saving model to test.h5\n",
      "312/312 [==============================] - 81s 260ms/step - loss: 4.5040 - accuracy: 0.0213 - val_loss: 4.3567 - val_accuracy: 0.0577 - lr: 1.0000e-04\n",
      "Epoch 3/200\n",
      "312/312 [==============================] - ETA: 0s - loss: 4.1010 - accuracy: 0.0909\n",
      "Epoch 3: val_loss improved from 4.35669 to 3.85797, saving model to test.h5\n",
      "312/312 [==============================] - 80s 258ms/step - loss: 4.1010 - accuracy: 0.0909 - val_loss: 3.8580 - val_accuracy: 0.1351 - lr: 1.0000e-04\n",
      "Epoch 4/200\n",
      "312/312 [==============================] - ETA: 0s - loss: 3.6774 - accuracy: 0.1639\n",
      "Epoch 4: val_loss improved from 3.85797 to 3.35011, saving model to test.h5\n",
      "312/312 [==============================] - 83s 265ms/step - loss: 3.6774 - accuracy: 0.1639 - val_loss: 3.3501 - val_accuracy: 0.2317 - lr: 1.0000e-04\n",
      "Epoch 5/200\n",
      "312/312 [==============================] - ETA: 0s - loss: 3.0804 - accuracy: 0.2505\n",
      "Epoch 5: val_loss improved from 3.35011 to 2.66077, saving model to test.h5\n",
      "312/312 [==============================] - 84s 268ms/step - loss: 3.0804 - accuracy: 0.2505 - val_loss: 2.6608 - val_accuracy: 0.3233 - lr: 1.0000e-04\n",
      "Epoch 6/200\n",
      "312/312 [==============================] - ETA: 0s - loss: 2.6008 - accuracy: 0.3347\n",
      "Epoch 6: val_loss improved from 2.66077 to 2.39536, saving model to test.h5\n",
      "312/312 [==============================] - 83s 265ms/step - loss: 2.6008 - accuracy: 0.3347 - val_loss: 2.3954 - val_accuracy: 0.3880 - lr: 1.0000e-04\n",
      "Epoch 7/200\n",
      "312/312 [==============================] - ETA: 0s - loss: 2.2464 - accuracy: 0.4086\n",
      "Epoch 7: val_loss improved from 2.39536 to 2.21221, saving model to test.h5\n",
      "312/312 [==============================] - 83s 267ms/step - loss: 2.2464 - accuracy: 0.4086 - val_loss: 2.2122 - val_accuracy: 0.4333 - lr: 1.0000e-04\n",
      "Epoch 8/200\n",
      "312/312 [==============================] - ETA: 0s - loss: 1.9806 - accuracy: 0.4710\n",
      "Epoch 8: val_loss improved from 2.21221 to 2.17771, saving model to test.h5\n",
      "312/312 [==============================] - 83s 267ms/step - loss: 1.9806 - accuracy: 0.4710 - val_loss: 2.1777 - val_accuracy: 0.4524 - lr: 1.0000e-04\n",
      "Epoch 9/200\n",
      "312/312 [==============================] - ETA: 0s - loss: 1.7685 - accuracy: 0.5198\n",
      "Epoch 9: val_loss did not improve from 2.17771\n",
      "312/312 [==============================] - 80s 258ms/step - loss: 1.7685 - accuracy: 0.5198 - val_loss: 2.2683 - val_accuracy: 0.4704 - lr: 1.0000e-04\n",
      "Epoch 10/200\n",
      "312/312 [==============================] - ETA: 0s - loss: 1.5610 - accuracy: 0.5700\n",
      "Epoch 10: val_loss improved from 2.17771 to 2.13241, saving model to test.h5\n",
      "312/312 [==============================] - 82s 264ms/step - loss: 1.5610 - accuracy: 0.5700 - val_loss: 2.1324 - val_accuracy: 0.4897 - lr: 1.0000e-04\n",
      "Epoch 11/200\n",
      "312/312 [==============================] - ETA: 0s - loss: 1.3769 - accuracy: 0.6140\n",
      "Epoch 11: val_loss improved from 2.13241 to 2.09118, saving model to test.h5\n",
      "312/312 [==============================] - 83s 266ms/step - loss: 1.3769 - accuracy: 0.6140 - val_loss: 2.0912 - val_accuracy: 0.5106 - lr: 1.0000e-04\n",
      "Epoch 12/200\n",
      "312/312 [==============================] - ETA: 0s - loss: 1.2411 - accuracy: 0.6503\n",
      "Epoch 12: val_loss did not improve from 2.09118\n",
      "312/312 [==============================] - 81s 260ms/step - loss: 1.2411 - accuracy: 0.6503 - val_loss: 2.1413 - val_accuracy: 0.5129 - lr: 1.0000e-04\n",
      "Epoch 13/200\n",
      "312/312 [==============================] - ETA: 0s - loss: 1.1264 - accuracy: 0.6868\n",
      "Epoch 13: val_loss did not improve from 2.09118\n",
      "312/312 [==============================] - 81s 261ms/step - loss: 1.1264 - accuracy: 0.6868 - val_loss: 2.1510 - val_accuracy: 0.5130 - lr: 1.0000e-04\n",
      "Epoch 14/200\n",
      "312/312 [==============================] - ETA: 0s - loss: 0.9976 - accuracy: 0.7182\n",
      "Epoch 14: val_loss did not improve from 2.09118\n",
      "312/312 [==============================] - 82s 263ms/step - loss: 0.9976 - accuracy: 0.7182 - val_loss: 2.2060 - val_accuracy: 0.5240 - lr: 1.0000e-04\n",
      "Epoch 15/200\n",
      "312/312 [==============================] - ETA: 0s - loss: 0.8330 - accuracy: 0.7619\n",
      "Epoch 15: val_loss did not improve from 2.09118\n",
      "312/312 [==============================] - 82s 261ms/step - loss: 0.8330 - accuracy: 0.7619 - val_loss: 2.1882 - val_accuracy: 0.5304 - lr: 1.0000e-05\n",
      "Epoch 16/200\n",
      "312/312 [==============================] - ETA: 0s - loss: 0.7714 - accuracy: 0.7762\n",
      "Epoch 16: val_loss did not improve from 2.09118\n",
      "312/312 [==============================] - 81s 260ms/step - loss: 0.7714 - accuracy: 0.7762 - val_loss: 2.2086 - val_accuracy: 0.5348 - lr: 1.0000e-05\n",
      "Epoch 17/200\n",
      "312/312 [==============================] - ETA: 0s - loss: 0.7373 - accuracy: 0.7869\n",
      "Epoch 17: val_loss did not improve from 2.09118\n",
      "312/312 [==============================] - 81s 261ms/step - loss: 0.7373 - accuracy: 0.7869 - val_loss: 2.2731 - val_accuracy: 0.5355 - lr: 1.0000e-05\n",
      "Epoch 18/200\n",
      "312/312 [==============================] - ETA: 0s - loss: 0.7037 - accuracy: 0.7938\n",
      "Epoch 18: val_loss did not improve from 2.09118\n",
      "312/312 [==============================] - 82s 263ms/step - loss: 0.7037 - accuracy: 0.7938 - val_loss: 2.2469 - val_accuracy: 0.5365 - lr: 1.0000e-06\n",
      "Epoch 19/200\n",
      "312/312 [==============================] - ETA: 0s - loss: 0.7039 - accuracy: 0.7926\n",
      "Epoch 19: val_loss did not improve from 2.09118\n",
      "312/312 [==============================] - 81s 258ms/step - loss: 0.7039 - accuracy: 0.7926 - val_loss: 2.2694 - val_accuracy: 0.5363 - lr: 1.0000e-06\n",
      "Epoch 19: early stopping\n"
     ]
    },
    {
     "data": {
      "image/png": "[encoded data removed]",
      "text/plain": [
       "<Figure size 640x480 with 1 Axes>"
      ]
     },
     "metadata": {},
     "output_type": "display_data"
    },
    {
     "data": {
      "image/png": "[encoded data removed]",
      "text/plain": [
       "<Figure size 640x480 with 1 Axes>"
      ]
     },
     "metadata": {},
     "output_type": "display_data"
    }
   ],
   "source": [
    "model, callback = neural_net(num_neurones=512, num_hidden_layers=3, \n",
    "                              dropout_rate=0.4, early_stop_patience=8, \n",
    "                              lr_scheduler_patience=3, learning_rate= 0.0001)\n",
    "\n",
    "history = training(model=model, cb= callback, n_epoch=200)\n",
    "\n",
    "plot_history(history=history)"
   ]
  },
  {
   "cell_type": "code",
   "execution_count": 17,
   "metadata": {},
   "outputs": [],
   "source": [
    "p_test = pre_process(test)\n",
    "test_labels = test[b'fine_labels']"
   ]
  },
  {
   "cell_type": "code",
   "execution_count": 18,
   "metadata": {},
   "outputs": [],
   "source": [
    "test_generator = create_test_generator(p_test, test_labels, batch_size=128)"
   ]
  },
  {
   "cell_type": "code",
   "execution_count": 19,
   "metadata": {},
   "outputs": [],
   "source": [
    "model = load_model('test.h5')"
   ]
  },
  {
   "cell_type": "code",
   "execution_count": 20,
   "metadata": {},
   "outputs": [
    {
     "name": "stdout",
     "output_type": "stream",
     "text": [
      "78/78 [==============================] - 2s 17ms/step - loss: 2.0839 - accuracy: 0.5088\n"
     ]
    },
    {
     "data": {
      "text/plain": [
       "[2.0838520526885986, 0.5088140964508057]"
      ]
     },
     "execution_count": 20,
     "metadata": {},
     "output_type": "execute_result"
    }
   ],
   "source": [
    "model.evaluate(test_generator)"
   ]
  }
 ],
 "metadata": {
  "kernelspec": {
   "display_name": "venv",
   "language": "python",
   "name": "python3"
  },
  "language_info": {
   "codemirror_mode": {
    "name": "ipython",
    "version": 3
   },
   "file_extension": ".py",
   "mimetype": "text/x-python",
   "name": "python",
   "nbconvert_exporter": "python",
   "pygments_lexer": "ipython3",
   "version": "3.9.13"
  }
 },
 "nbformat": 4,
 "nbformat_minor": 2
}
